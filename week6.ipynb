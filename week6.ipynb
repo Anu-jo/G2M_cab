{
  "nbformat": 4,
  "nbformat_minor": 0,
  "metadata": {
    "colab": {
      "provenance": [],
      "authorship_tag": "ABX9TyOtBpR5jJHZhnVmKuP1S0Fh",
      "include_colab_link": true
    },
    "kernelspec": {
      "name": "python3",
      "display_name": "Python 3"
    },
    "language_info": {
      "name": "python"
    }
  },
  "cells": [
    {
      "cell_type": "markdown",
      "metadata": {
        "id": "view-in-github",
        "colab_type": "text"
      },
      "source": [
        "<a href=\"https://colab.research.google.com/github/Anu-jo/G2M_cab/blob/main/week6.ipynb\" target=\"_parent\"><img src=\"https://colab.research.google.com/assets/colab-badge.svg\" alt=\"Open In Colab\"/></a>"
      ]
    },
    {
      "cell_type": "code",
      "source": [
        "# Install necessary libraries\n",
        "!pip install pandas dask modin[ray] ray pyyaml"
      ],
      "metadata": {
        "colab": {
          "base_uri": "https://localhost:8080/"
        },
        "id": "4LBzSJrCiOvm",
        "outputId": "31c5d32f-450b-4bf1-e0bd-f789148d4531"
      },
      "execution_count": null,
      "outputs": [
        {
          "output_type": "stream",
          "name": "stdout",
          "text": [
            "Requirement already satisfied: pandas in /usr/local/lib/python3.10/dist-packages (2.0.3)\n",
            "Requirement already satisfied: dask in /usr/local/lib/python3.10/dist-packages (2023.8.1)\n",
            "Collecting modin[ray]\n",
            "  Downloading modin-0.30.0-py3-none-any.whl (1.2 MB)\n",
            "\u001b[2K     \u001b[90m━━━━━━━━━━━━━━━━━━━━━━━━━━━━━━━━━━━━━━━━\u001b[0m \u001b[32m1.2/1.2 MB\u001b[0m \u001b[31m12.1 MB/s\u001b[0m eta \u001b[36m0:00:00\u001b[0m\n",
            "\u001b[?25hCollecting ray\n",
            "  Downloading ray-2.24.0-cp310-cp310-manylinux2014_x86_64.whl (65.9 MB)\n",
            "\u001b[2K     \u001b[90m━━━━━━━━━━━━━━━━━━━━━━━━━━━━━━━━━━━━━━━━\u001b[0m \u001b[32m65.9/65.9 MB\u001b[0m \u001b[31m8.2 MB/s\u001b[0m eta \u001b[36m0:00:00\u001b[0m\n",
            "\u001b[?25hRequirement already satisfied: pyyaml in /usr/local/lib/python3.10/dist-packages (6.0.1)\n",
            "Requirement already satisfied: python-dateutil>=2.8.2 in /usr/local/lib/python3.10/dist-packages (from pandas) (2.8.2)\n",
            "Requirement already satisfied: pytz>=2020.1 in /usr/local/lib/python3.10/dist-packages (from pandas) (2023.4)\n",
            "Requirement already satisfied: tzdata>=2022.1 in /usr/local/lib/python3.10/dist-packages (from pandas) (2024.1)\n",
            "Requirement already satisfied: numpy>=1.21.0 in /usr/local/lib/python3.10/dist-packages (from pandas) (1.25.2)\n",
            "Requirement already satisfied: click>=8.0 in /usr/local/lib/python3.10/dist-packages (from dask) (8.1.7)\n",
            "Requirement already satisfied: cloudpickle>=1.5.0 in /usr/local/lib/python3.10/dist-packages (from dask) (2.2.1)\n",
            "Requirement already satisfied: fsspec>=2021.09.0 in /usr/local/lib/python3.10/dist-packages (from dask) (2023.6.0)\n",
            "Requirement already satisfied: packaging>=20.0 in /usr/local/lib/python3.10/dist-packages (from dask) (24.0)\n",
            "Requirement already satisfied: partd>=1.2.0 in /usr/local/lib/python3.10/dist-packages (from dask) (1.4.2)\n",
            "Requirement already satisfied: toolz>=0.10.0 in /usr/local/lib/python3.10/dist-packages (from dask) (0.12.1)\n",
            "Requirement already satisfied: importlib-metadata>=4.13.0 in /usr/local/lib/python3.10/dist-packages (from dask) (7.1.0)\n",
            "Collecting pandas\n",
            "  Downloading pandas-2.2.2-cp310-cp310-manylinux_2_17_x86_64.manylinux2014_x86_64.whl (13.0 MB)\n",
            "\u001b[2K     \u001b[90m━━━━━━━━━━━━━━━━━━━━━━━━━━━━━━━━━━━━━━━━\u001b[0m \u001b[32m13.0/13.0 MB\u001b[0m \u001b[31m78.8 MB/s\u001b[0m eta \u001b[36m0:00:00\u001b[0m\n",
            "\u001b[?25hRequirement already satisfied: psutil>=5.8.0 in /usr/local/lib/python3.10/dist-packages (from modin[ray]) (5.9.5)\n",
            "Requirement already satisfied: pyarrow>=10.0.1 in /usr/local/lib/python3.10/dist-packages (from modin[ray]) (14.0.2)\n",
            "Requirement already satisfied: filelock in /usr/local/lib/python3.10/dist-packages (from ray) (3.14.0)\n",
            "Requirement already satisfied: jsonschema in /usr/local/lib/python3.10/dist-packages (from ray) (4.19.2)\n",
            "Requirement already satisfied: msgpack<2.0.0,>=1.0.0 in /usr/local/lib/python3.10/dist-packages (from ray) (1.0.8)\n",
            "Requirement already satisfied: protobuf!=3.19.5,>=3.15.3 in /usr/local/lib/python3.10/dist-packages (from ray) (3.20.3)\n",
            "Requirement already satisfied: aiosignal in /usr/local/lib/python3.10/dist-packages (from ray) (1.3.1)\n",
            "Requirement already satisfied: frozenlist in /usr/local/lib/python3.10/dist-packages (from ray) (1.4.1)\n",
            "Requirement already satisfied: requests in /usr/local/lib/python3.10/dist-packages (from ray) (2.31.0)\n",
            "Requirement already satisfied: zipp>=0.5 in /usr/local/lib/python3.10/dist-packages (from importlib-metadata>=4.13.0->dask) (3.19.1)\n",
            "Requirement already satisfied: locket in /usr/local/lib/python3.10/dist-packages (from partd>=1.2.0->dask) (1.0.0)\n",
            "Requirement already satisfied: six>=1.5 in /usr/local/lib/python3.10/dist-packages (from python-dateutil>=2.8.2->pandas) (1.16.0)\n",
            "Requirement already satisfied: attrs>=22.2.0 in /usr/local/lib/python3.10/dist-packages (from jsonschema->ray) (23.2.0)\n",
            "Requirement already satisfied: jsonschema-specifications>=2023.03.6 in /usr/local/lib/python3.10/dist-packages (from jsonschema->ray) (2023.12.1)\n",
            "Requirement already satisfied: referencing>=0.28.4 in /usr/local/lib/python3.10/dist-packages (from jsonschema->ray) (0.35.1)\n",
            "Requirement already satisfied: rpds-py>=0.7.1 in /usr/local/lib/python3.10/dist-packages (from jsonschema->ray) (0.18.1)\n",
            "Requirement already satisfied: charset-normalizer<4,>=2 in /usr/local/lib/python3.10/dist-packages (from requests->ray) (3.3.2)\n",
            "Requirement already satisfied: idna<4,>=2.5 in /usr/local/lib/python3.10/dist-packages (from requests->ray) (3.7)\n",
            "Requirement already satisfied: urllib3<3,>=1.21.1 in /usr/local/lib/python3.10/dist-packages (from requests->ray) (2.0.7)\n",
            "Requirement already satisfied: certifi>=2017.4.17 in /usr/local/lib/python3.10/dist-packages (from requests->ray) (2024.6.2)\n",
            "Installing collected packages: pandas, modin, ray\n",
            "  Attempting uninstall: pandas\n",
            "    Found existing installation: pandas 2.0.3\n",
            "    Uninstalling pandas-2.0.3:\n",
            "      Successfully uninstalled pandas-2.0.3\n",
            "\u001b[31mERROR: pip's dependency resolver does not currently take into account all the packages that are installed. This behaviour is the source of the following dependency conflicts.\n",
            "cudf-cu12 24.4.1 requires pandas<2.2.2dev0,>=2.0, but you have pandas 2.2.2 which is incompatible.\n",
            "google-colab 1.0.0 requires pandas==2.0.3, but you have pandas 2.2.2 which is incompatible.\u001b[0m\u001b[31m\n",
            "\u001b[0mSuccessfully installed modin-0.30.0 pandas-2.2.2 ray-2.24.0\n"
          ]
        }
      ]
    },
    {
      "cell_type": "code",
      "execution_count": null,
      "metadata": {
        "colab": {
          "base_uri": "https://localhost:8080/"
        },
        "id": "yzbaqB-4DJeJ",
        "outputId": "3cb73a6c-2209-4131-c1de-9b2008f919b0"
      },
      "outputs": [
        {
          "output_type": "stream",
          "name": "stdout",
          "text": [
            "Combined file written to combined_yellow_tripdata_2019.csv\n"
          ]
        }
      ],
      "source": [
        "import pandas as pd\n",
        "import os\n",
        "\n",
        "# List of file paths\n",
        "file_paths = [\n",
        "    'yellow_tripdata_2019-01.csv',\n",
        "    'yellow_tripdata_2019-02.csv',\n",
        "    'yellow_tripdata_2019-03.csv',\n",
        "    'yellow_tripdata_2019-04.csv',\n",
        "    'yellow_tripdata_2019-05.csv',\n",
        "    'yellow_tripdata_2019-06.csv',\n",
        "    'yellow_tripdata_2019-07.csv',\n",
        "    'yellow_tripdata_2019-08.csv',\n",
        "    'yellow_tripdata_2019-09.csv',\n",
        "    'yellow_tripdata_2019-10.csv',\n",
        "    'yellow_tripdata_2019-11.csv',\n",
        "    'yellow_tripdata_2019-12.csv'\n",
        "]\n",
        "\n",
        "# Initialize an empty list to hold the dataframes\n",
        "df_list = []\n",
        "\n",
        "# Read each file and append the dataframe to the list\n",
        "for file_path in file_paths:\n",
        "    df = pd.read_csv(file_path)\n",
        "    df_list.append(df)\n",
        "\n",
        "# Concatenate all dataframes in the list\n",
        "combined_df = pd.concat(df_list, ignore_index=True)\n",
        "\n",
        "# Output file path\n",
        "output_file = 'combined_yellow_tripdata_2019.csv'\n",
        "\n",
        "# Write the combined dataframe to a new CSV file\n",
        "combined_df.to_csv(output_file, index=False)\n",
        "\n",
        "print(f\"Combined file written to {output_file}\")\n",
        "\n",
        "\n"
      ]
    },
    {
      "cell_type": "code",
      "source": [
        "import pandas as pd\n",
        "import dask.dataframe as dd\n",
        "import modin.pandas as mpd\n",
        "import ray\n",
        "from modin.config import Engine\n",
        "import time\n",
        "import re\n",
        "import gzip\n",
        "import os\n",
        "\n",
        "# Read using Pandas\n",
        "start_time = time.time()\n",
        "df_pandas = pd.read_csv('combined_yellow_tripdata_2019.csv')\n",
        "pandas_time = time.time() - start_time\n",
        "print(f\"Pandas read time: {pandas_time} seconds\")\n",
        "\n",
        "# Read using Dask\n",
        "start_time = time.time()\n",
        "df_dask = dd.read_csv('combined_yellow_tripdata_2019.csv')\n",
        "df_dask = df_dask.compute()\n",
        "dask_time = time.time() - start_time\n",
        "print(f\"Dask read time: {dask_time} seconds\")\n",
        "\n",
        "\n",
        "# Ensure that Ray is the engine used by Modin\n",
        "Engine.put(\"ray\")\n",
        "\n",
        "# Shutdown any existing Ray instances\n",
        "ray.shutdown()\n",
        "\n",
        "# Initialize Ray\n",
        "ray.init()\n",
        "\n",
        "# Timing the read_csv operation with Modin\n",
        "start_time = time.time()\n",
        "df_modin_ray = mpd.read_csv('combined_yellow_tripdata_2019.csv')\n",
        "modin_ray_time = time.time() - start_time\n",
        "print(f\"Modin (Ray) read time: {modin_ray_time} seconds\")\n",
        "\n",
        "# Shutdown Ray after the operations\n",
        "ray.shutdown()\n",
        "\n",
        "\n",
        "# Clean column names\n",
        "def clean_column_names(df):\n",
        "    df.columns = df.columns.str.replace('[^A-Za-z0-9]+', '_').str.strip()\n",
        "    return df\n",
        "\n",
        "df_pandas = clean_column_names(df_pandas)\n",
        "df_dask = clean_column_names(df_dask)\n",
        "df_modin_ray = clean_column_names(df_modin_ray)\n",
        "\n",
        "\n"
      ],
      "metadata": {
        "colab": {
          "base_uri": "https://localhost:8080/"
        },
        "id": "Bj-QiX1bl8L0",
        "outputId": "95cfe598-da7e-4471-f7e1-86294bb0e4c4"
      },
      "execution_count": null,
      "outputs": [
        {
          "output_type": "stream",
          "name": "stdout",
          "text": [
            "Pandas read time: 1.37904953956604 seconds\n",
            "Dask read time: 2.2482693195343018 seconds\n"
          ]
        },
        {
          "output_type": "stream",
          "name": "stderr",
          "text": [
            "2024-06-09 21:40:25,857\tINFO worker.py:1753 -- Started a local Ray instance.\n"
          ]
        },
        {
          "output_type": "stream",
          "name": "stdout",
          "text": [
            "Modin (Ray) read time: 3.658999443054199 seconds\n"
          ]
        }
      ]
    },
    {
      "cell_type": "code",
      "source": [
        "import yaml\n",
        "\n",
        "schema = {\n",
        "    'columns': [\n",
        "        'VendorID', 'tpep_pickup_datetime', 'tpep_dropoff_datetime',\n",
        "        'passenger_count', 'trip_distance', 'RatecodeID', 'store_and_fwd_flag',\n",
        "        'PULocationID', 'DOLocationID', 'payment_type', 'fare_amount', 'extra',\n",
        "        'mta_tax', 'tip_amount', 'tolls_amount', 'improvement_surcharge',\n",
        "        'total_amount', 'congestion_surcharge'\n",
        "    ],\n",
        "    'separator': ','\n",
        "}\n",
        "\n",
        "with open('schema.yaml', 'w') as file:\n",
        "    yaml.dump(schema, file)\n",
        "\n",
        "print(\"Schema written to schema.yaml\")\n"
      ],
      "metadata": {
        "colab": {
          "base_uri": "https://localhost:8080/",
          "height": 181
        },
        "id": "J4wQEfxGk9YE",
        "outputId": "2fb5ed4c-5fb8-48a9-d18f-7335d9ca2334"
      },
      "execution_count": 19,
      "outputs": [
        {
          "output_type": "stream",
          "name": "stdout",
          "text": [
            "Schema written to schema.yaml\n"
          ]
        },
        {
          "output_type": "execute_result",
          "data": {
            "text/plain": [
              "'schema = {\\n    \\'columns\\': [\\n        {\\'name\\': \\'VendorID\\', \\'type\\': \\'int64\\'},\\n        {\\'name\\': \\'tpep_pickup_datetime\\', \\'type\\': \\'object\\'},\\n        {\\'name\\': \\'tpep_dropoff_datetime\\', \\'type\\': \\'object\\'},\\n        {\\'name\\': \\'passenger_count\\', \\'type\\': \\'float64\\'},\\n        {\\'name\\': \\'trip_distance\\', \\'type\\': \\'float64\\'},\\n        {\\'name\\': \\'RatecodeID\\', \\'type\\': \\'float64\\'},\\n        {\\'name\\': \\'store_and_fwd_flag\\', \\'type\\': \\'object\\'},\\n        {\\'name\\': \\'PULocationID\\', \\'type\\': \\'float64\\'},\\n        {\\'name\\': \\'DOLocationID\\', \\'type\\': \\'float64\\'},\\n        {\\'name\\': \\'payment_type\\', \\'type\\': \\'float64\\'},\\n        {\\'name\\': \\'fare_amount\\', \\'type\\': \\'float64\\'},\\n        {\\'name\\': \\'extra\\', \\'type\\': \\'float64\\'},\\n        {\\'name\\': \\'mta_tax\\', \\'type\\': \\'float64\\'},\\n        {\\'name\\': \\'tip_amount\\', \\'type\\': \\'float64\\'},\\n        {\\'name\\': \\'tolls_amount\\', \\'type\\': \\'float64\\'},\\n        {\\'name\\': \\'improvement_surcharge\\', \\'type\\': \\'float64\\'},\\n        {\\'name\\': \\'total_amount\\', \\'type\\': \\'float64\\'},\\n        {\\'name\\': \\'congestion_surcharge\\', \\'type\\': \\'float64\\'},\\n    ],\\n    \\'separator\\': \\',\\'\\n}\\nwith open(\\'schema.yaml\\', \\'w\\') as file:\\n    yaml.dump(schema, file)\\n\\nprint(\"Schema written to schema.yaml\")\\ndf=pd.read_csv(\\'combined_yellow_tripdata_2019.csv\\')\\nprint(\"Actual column names:\")\\nprint(df.columns)\\nprint(\"Expected column names:\")\\nprint(list(schema.keys()))\\n\\n# Check for mismatches between actual and expected column names\\nmissing_columns = [col for col in schema if col not in df.columns]\\nextra_columns = [col for col in df.columns if col not in schema]\\n\\nif missing_columns:\\n    print(f\"Missing columns: {missing_columns}\")\\nif extra_columns:\\n    print(f\"Extra columns: {extra_columns}\")\\n\\n# If all expected columns are present, convert the data types\\nif not missing_columns:\\n    for column, dtype in schema.items():\\n        df[column] = df[column].astype(dtype)\\n\\n    # Convert datetime columns if needed\\n    df[\\'tpep_pickup_datetime\\'] = pd.to_datetime(df[\\'tpep_pickup_datetime\\'])\\n    df[\\'tpep_dropoff_datetime\\'] = pd.to_datetime(df[\\'tpep_dropoff_datetime\\'])\\n\\n    # Verify the data types\\n    print(\"Converted data types:\")\\n    print(df.dtypes)\\nelse:\\n    print(\"Please correct the column names to match the expected schema.\")\\nfor column, dtype in schema.items():\\n    df[column] = df[column].astype(dtype)\\n\\n# Convert datetime columns if needed\\ndf[\\'tpep_pickup_datetime\\'] = pd.to_datetime(df[\\'tpep_pickup_datetime\\'])\\ndf[\\'tpep_dropoff_datetime\\'] = pd.to_datetime(df[\\'tpep_dropoff_datetime\\'])\\n\\n# Verify the data types\\nprint(\"Converted data types:\")\\nprint(df.dtypes)'"
            ],
            "application/vnd.google.colaboratory.intrinsic+json": {
              "type": "string"
            }
          },
          "metadata": {},
          "execution_count": 19
        }
      ]
    },
    {
      "cell_type": "code",
      "source": [
        "# Load the schema\n",
        "with open('schema.yaml', 'r') as file:\n",
        "    schema = yaml.safe_load(file)\n",
        "\n",
        "# Validate schema\n",
        "def validate_schema(df, schema):\n",
        "    expected_columns = schema['columns']\n",
        "    if list(df.columns) != expected_columns:\n",
        "        raise ValueError(f\"Column names do not match the schema. Expected: {expected_columns}, Found: {list(df.columns)}\")\n",
        "    if len(df.columns) != len(expected_columns):\n",
        "        raise ValueError(f\"Number of columns do not match the schema. Expected: {len(expected_columns)}, Found: {len(df.columns)}\")\n",
        "\n",
        "validate_schema(df_pandas, schema)\n",
        "validate_schema(df_dask, schema)\n",
        "validate_schema(df_modin_ray, schema)\n",
        "\n",
        "print(\"Validation successful!\")\n",
        "\n",
        "# Write to pipe-separated gzip file\n",
        "def write_compressed_file(df, output_file):\n",
        "    with gzip.open(output_file, 'wt', encoding='utf-8') as f:\n",
        "        df.to_csv(f, sep='|', index=False)\n",
        "\n",
        "output_file = 'output_file.txt.gz'\n",
        "write_compressed_file(df_pandas, output_file)\n",
        "\n",
        "print(f\"File written to {output_file}\")\n",
        "\n",
        "# Generate summary\n",
        "summary = {\n",
        "    'Total number of rows': len(df_pandas),\n",
        "    'Total number of columns': len(df_pandas.columns),\n",
        "    'File size': os.path.getsize(output_file)\n",
        "}\n",
        "\n",
        "print(\"Summary of the file:\")\n",
        "for key, value in summary.items():\n",
        "    print(f\"{key}: {value}\")"
      ],
      "metadata": {
        "id": "cMopdhaQk2fV",
        "colab": {
          "base_uri": "https://localhost:8080/"
        },
        "outputId": "5c930b37-2425-4012-8ff4-20afac667b3e"
      },
      "execution_count": 20,
      "outputs": [
        {
          "output_type": "stream",
          "name": "stdout",
          "text": [
            "Validation successful!\n",
            "File written to output_file.txt.gz\n",
            "Summary of the file:\n",
            "Total number of rows: 488572\n",
            "Total number of columns: 18\n",
            "File size: 8717406\n"
          ]
        }
      ]
    }
  ]
}